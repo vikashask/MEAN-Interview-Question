{
 "cells": [
  {
   "cell_type": "code",
   "execution_count": null,
   "metadata": {},
   "outputs": [],
   "source": [
    "# Write a function that capitalizes the first and fourth letters of a name\n",
    "def capitalize_name(name):\n",
    "    if len(name) < 4:\n",
    "        return \"Name must be at least 4 characters long.\"\n",
    "    # Capitalize the first and fourth letters\n",
    "    name_list = list(name)\n",
    "    name_list[0] = name_list[0].upper()\n",
    "    name_list[3] = name_list[3].upper()\n",
    "    return ''.join(name_list)   \n",
    "\n",
    "# Example usage\n",
    "print(capitalize_name(\"john\"))  # Output: \"John\"\n",
    "print(capitalize_name(\"alice\"))  # Output: \"AlIcE\"\n",
    "\n",
    "def old_macdonald(name):\n",
    "    if len(name) > 3:\n",
    "        return name[:3].capitalize() + name[3:].capitalize()\n",
    "    else:\n",
    "        return 'Name is too short!'\n",
    "print(old_macdonald('macdonald'))"
   ]
  }
 ],
 "metadata": {
  "kernelspec": {
   "display_name": "Python 3",
   "language": "python",
   "name": "python3"
  },
  "language_info": {
   "name": "python",
   "version": "3.11.7"
  }
 },
 "nbformat": 4,
 "nbformat_minor": 4
}