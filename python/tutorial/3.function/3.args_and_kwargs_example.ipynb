{
 "cells": [
  {
   "cell_type": "code",
   "execution_count": null,
   "metadata": {},
   "outputs": [],
   "source": [
    "# *args\n",
    "# The special syntax *args in function definitions in python is used to pass a variable number of arguments to a function.\n",
    "# It is used to pass a non-keyworded, variable-length argument list.\n",
    "# The name `args` is just a convention, you can use any name, e.g., *myargs.\n",
    "\n",
    "print(\"-- *args example --\")\n",
    "\n",
    "# This function takes a variable number of arguments and returns 5% of their sum.\n",
    "def myfunc(*args):\n",
    "    print(f\"Arguments received as a tuple: {args}\")\n",
    "    return sum(args) * 0.05\n",
    "\n",
    "print(f\"Result: {myfunc(40, 60)}\")\n",
    "print(f\"Result: {myfunc(10, 20, 30, 40, 50, 60)}\")"
   ]
  },
  {
   "cell_type": "code",
   "execution_count": null,
   "metadata": {},
   "outputs": [],
   "source": [
    "\n",
    "# **kwargs\n",
    "# The special syntax **kwargs in function definitions in python is used to pass a keyworded, variable-length argument list.\n",
    "# A keyword argument is where you provide a name to the variable as you pass it into the function.\n",
    "# **kwargs is a dictionary of the keyword arguments passed to the function.\n",
    "# The name `kwargs` is a convention, you can use any name, e.g., **mykwargs.\n",
    "\n",
    "print(\"\\n-- **kwargs example --\")\n",
    "\n",
    "def my_kwargs_func(**kwargs):\n",
    "    print(f\"Arguments received as a dictionary: {kwargs}\")\n",
    "    if 'fruit' in kwargs:\n",
    "        print(f\"My fruit of choice is {kwargs['fruit']}\")\n",
    "    else:\n",
    "        print(\"I did not find any fruit here.\")\n",
    "\n",
    "my_kwargs_func(fruit='apple', veggie='lettuce')\n",
    "my_kwargs_func(food='sushi')"
   ]
  },
  {
   "cell_type": "code",
   "execution_count": null,
   "metadata": {},
   "outputs": [],
   "source": [
    "# Combined *args and **kwargs\n",
    "# You can use both *args and **kwargs in the same function, but *args must appear before **kwargs.\n",
    "\n",
    "print(\"\\n-- Combined *args and **kwargs example --\")\n",
    "\n",
    "def combined_func(*args, **kwargs):\n",
    "    print(f\"I would like {args[0]} {kwargs['food']}.\")\n",
    "\n",
    "combined_func(10, 20, 30, fruit='orange', food='eggs', animal='dog')\n",
    "\n",
    "# The order of arguments is: standard arguments, *args, **kwargs\n",
    "def another_combined_func(a, b, *args, **kwargs):\n",
    "    print(f\"a = {a}\")\n",
    "    print(f\"b = {b}\")\n",
    "    print(f\"args = {args}\")\n",
    "    print(f\"kwargs = {kwargs}\")\n",
    "\n",
    "another_combined_func(1, 2, 3, 4, 5, name=\"Gemini\", version=\"1.0\")"
   ]
  }
 ],
 "metadata": {
  "kernelspec": {
   "display_name": "Python 3",
   "language": "python",
   "name": "python3"
  },
  "language_info": {
   "name": "python",
   "version": "3.11.7"
  }
 },
 "nbformat": 4,
 "nbformat_minor": 4
}
