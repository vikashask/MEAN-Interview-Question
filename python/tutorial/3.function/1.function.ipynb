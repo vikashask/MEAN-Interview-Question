{
 "cells": [
  {
   "cell_type": "code",
   "execution_count": 1,
   "metadata": {},
   "outputs": [
    {
     "name": "stdout",
     "output_type": "stream",
     "text": [
      "Hello, welcome to Python functions!\n"
     ]
    }
   ],
   "source": [
    "# Python Functions\n",
    "\n",
    "# A function is a block of reusable code that performs a specific task.\n",
    "# Functions help to organize code, reduce duplication, and improve readability.\n",
    "\n",
    "# Defining a simple function\n",
    "def greet():\n",
    "    print(\"Hello, welcome to Python functions!\")\n",
    "\n",
    "# Calling the function\n",
    "greet()"
   ]
  },
  {
   "cell_type": "code",
   "execution_count": null,
   "metadata": {},
   "outputs": [],
   "source": [
    "\n",
    "# Function with parameters\n",
    "def greet_person(name):\n",
    "    print(f\"Hello, {name}!\")\n",
    "\n",
    "greet_person(\"Alice\")\n",
    "greet_person(\"Bob\")\n",
    "\n",
    "# Function with return value\n",
    "def add(a, b):\n",
    "    return a + b\n",
    "\n",
    "result = add(5, 3)\n",
    "print(\"Sum:\", result)"
   ]
  },
  {
   "cell_type": "code",
   "execution_count": null,
   "metadata": {},
   "outputs": [],
   "source": [
    "# Function with default parameter\n",
    "def power(base, exponent=2):\n",
    "    return base ** exponent\n",
    "\n",
    "print(\"Square of 4:\", power(4))\n",
    "print(\"Cube of 4:\", power(4, 3))\n",
    "\n",
    "# Function with keyword arguments\n",
    "def introduce(name, age, city):\n",
    "    print(f\"My name is {name}, I am {age} years old, and I live in {city}.\")\n",
    "\n",
    "introduce(age=30, name=\"Charlie\", city=\"New York\")"
   ]
  },
  {
   "cell_type": "code",
   "execution_count": null,
   "metadata": {},
   "outputs": [],
   "source": [
    "# ============================== args ============================== \n",
    "# Function with variable-length arguments (*args)\n",
    "def sum_all(*args):\n",
    "    return sum(args)\n",
    "\n",
    "print(\"Sum of all numbers:\", sum_all(1, 2, 3, 4, 5))\n",
    "\n",
    "# ============================== kwargs ============================== \n",
    "# Function with keyword variable-length arguments (**kwargs)\n",
    "def print_info(**kwargs):\n",
    "    for key, value in kwargs.items():\n",
    "        print(f\"{key}: {value}\")\n",
    "\n",
    "print_info(name=\"Daisy\", age=25, city=\"London\")\n",
    "\n",
    "# Lambda (anonymous) function\n",
    "square = lambda x: x ** 2\n",
    "print(\"Square using lambda:\", square(6))"
   ]
  }
 ],
 "metadata": {
  "kernelspec": {
   "display_name": "Python 3",
   "language": "python",
   "name": "python3"
  },
  "language_info": {
   "codemirror_mode": {
    "name": "ipython",
    "version": 3
   },
   "file_extension": ".py",
   "mimetype": "text/x-python",
   "name": "python",
   "nbconvert_exporter": "python",
   "pygments_lexer": "ipython3",
   "version": "3.9.6"
  }
 },
 "nbformat": 4,
 "nbformat_minor": 4
}
