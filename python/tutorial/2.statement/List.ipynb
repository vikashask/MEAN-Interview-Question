{
 "cells": [
  {
   "cell_type": "code",
   "execution_count": null,
   "metadata": {},
   "outputs": [],
   "source": [
    "list = [x for x in range(10)]\n",
    "print(\"List of numbers from 0 to 9:\", list)\n",
    "\n",
    "word = [x for x in \"Python\"]\n",
    "print(\"List of characters in 'Python':\", word)\n",
    "\n",
    "# square of numbers\n",
    "\n",
    "squares = [x**2 for x in range(10)]\n",
    "print(\"List of squares from 0 to 9:\", squares)\n",
    "\n",
    "# Check for even numbers in a range\n",
    "evens = [x for x in range(20) if x % 2 == 0]\n",
    "print(\"List of even numbers from 0 to 19:\", evens)\n",
    "\n",
    "# Convert Celsius to Fahrenheit\n",
    "celsius = [0, 10, 20, 30, 40]\n",
    "fahrenheit = [(temp * 9/5) + 32 for temp in celsius]\n",
    "print(\"Celsius to Fahrenheit:\", fahrenheit)"
   ]
  }
 ],
 "metadata": {
  "kernelspec": {
   "display_name": "Python 3",
   "language": "python",
   "name": "python3"
  },
  "language_info": {
   "name": "python",
   "version": "3.11.7"
  }
 },
 "nbformat": 4,
 "nbformat_minor": 4
}