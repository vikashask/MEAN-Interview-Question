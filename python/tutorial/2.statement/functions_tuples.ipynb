{
 "cells": [
  {
   "cell_type": "code",
   "execution_count": 1,
   "metadata": {},
   "outputs": [
    {
     "name": "stdout",
     "output_type": "stream",
     "text": [
      "Stock: AAPL, Price: 200\n",
      "Stock: GOOG, Price: 300\n",
      "Stock: MSFT, Price: 400\n",
      "Total work hours: 1300, Number of employees: 3\n"
     ]
    }
   ],
   "source": [
    "# Returning Tuples for Unpacking\n",
    "stock_prices = [('AAPL',200),('GOOG',300),('MSFT',400)]\n",
    "for stock, price in stock_prices:\n",
    "    print(f\"Stock: {stock}, Price: {price}\")\n",
    "\n",
    "\n",
    "# functions often return tuples, to easily return multiple results for later use.\n",
    "work_hours = [('Abby',100),('Billy',400),('Cassie',800)]\n",
    "def employee_work_hours(work_hours):\n",
    "    total_hours = 0\n",
    "    for employee, hours in work_hours:\n",
    "        total_hours += hours\n",
    "    return total_hours, len(work_hours)\n",
    "\n",
    "total, count = employee_work_hours(work_hours)\n",
    "print(f\"Total work hours: {total}, Number of employees: {count}\")"
   ]
  }
 ],
 "metadata": {
  "kernelspec": {
   "display_name": "Python 3",
   "language": "python",
   "name": "python3"
  },
  "language_info": {
   "codemirror_mode": {
    "name": "ipython",
    "version": 3
   },
   "file_extension": ".py",
   "mimetype": "text/x-python",
   "name": "python",
   "nbconvert_exporter": "python",
   "pygments_lexer": "ipython3",
   "version": "3.9.6"
  }
 },
 "nbformat": 4,
 "nbformat_minor": 4
}
