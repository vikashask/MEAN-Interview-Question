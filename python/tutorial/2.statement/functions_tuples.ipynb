{
 "cells": [
  {
   "cell_type": "code",
   "execution_count": null,
   "metadata": {},
   "outputs": [],
   "source": [
    "# Returning Tuples for Unpacking\n",
    "stock_prices = [('AAPL',200),('GOOG',300),('MSFT',400)]\n",
    "for stock, price in stock_prices:\n",
    "    print(f\"Stock: {stock}, Price: {price}\")\n",
    "\n",
    "\n",
    "# functions often return tuples, to easily return multiple results for later use.\n",
    "work_hours = [('Abby',100),('Billy',400),('Cassie',800)]\n",
    "def employee_work_hours(work_hours):\n",
    "    total_hours = 0\n",
    "    for employee, hours in work_hours:\n",
    "        total_hours += hours\n",
    "    return total_hours, len(work_hours)\n",
    "\n",
    "total, count = employee_work_hours(work_hours)\n",
    "print(f\"Total work hours: {total}, Number of employees: {count}\")"
   ]
  }
 ],
 "metadata": {
  "kernelspec": {
   "display_name": "Python 3",
   "language": "python",
   "name": "python3"
  },
  "language_info": {
   "name": "python",
   "version": "3.11.7"
  }
 },
 "nbformat": 4,
 "nbformat_minor": 4
}