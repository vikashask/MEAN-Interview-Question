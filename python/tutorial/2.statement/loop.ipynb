{
 "cells": [
  {
   "cell_type": "code",
   "execution_count": null,
   "metadata": {},
   "outputs": [],
   "source": [
    "# For loop example\n",
    "print(\"For loop example:\")\n",
    "fruits = [\"apple\", \"banana\", \"cherry\"]\n",
    "for fruit in fruits:\n",
    "  print(fruit)\n",
    "\n",
    "#Check if any number in a list is even\n",
    "\n",
    "def is_even(num_list):\n",
    "    for num in num_list:\n",
    "        if num % 2 == 0:\n",
    "            return True\n",
    "    return False\n",
    "print(\"Is there an even number in the list?_\", is_even([1, 3, 5, 7, 8]))\n",
    "  \n",
    "\n",
    "# Return all even numbers in a list\n",
    "def get_even_numbers(num_list):\n",
    "    even_numbers = []\n",
    "    for num in num_list:\n",
    "        if num % 2 == 0:\n",
    "            even_numbers.append(num)\n",
    "    return even_numbers\n",
    "print(\"Even numbers in the list:\", get_even_numbers([1, 2, 3]))\n",
    "\n",
    "\n",
    "\n",
    "# While loop example\n",
    "print(\"\\nWhile loop example:\")\n",
    "count = 0\n",
    "while (count < 3):\n",
    "  count = count + 1\n",
    "  print(\"Hello Geek\")\n"
   ]
  }
 ],
 "metadata": {
  "kernelspec": {
   "display_name": "Python 3",
   "language": "python",
   "name": "python3"
  },
  "language_info": {
   "name": "python",
   "version": "3.11.7"
  }
 },
 "nbformat": 4,
 "nbformat_minor": 4
}