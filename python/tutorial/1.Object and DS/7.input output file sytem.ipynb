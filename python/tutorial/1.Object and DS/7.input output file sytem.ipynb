{
  "cells": [
    {
      "cell_type": "markdown",
      "metadata": {},
      "source": [
        "# File I/O Examples in Python"
      ]
    },
    {
      "cell_type": "code",
      "execution_count": null,
      "metadata": {},
      "outputs": [],
      "source": [
        "# Writing to a file\n",
        "try:\n",
        "    with open(\"example.txt\", \"w\") as file:\n",
        "        file.write(\"Hello, this is a test file.\\n\")",
        "        file.write(\"This is the second line.\\n\")",
        "    print(\"Successfully wrote to example.txt\")",
        "except IOError as e:\n",
        "    print(f\"Error writing to file: {e}\")"
      ]
    },
    {
      "cell_type": "code",
      "execution_count": null,
      "metadata": {},
      "outputs": [],
      "source": [
        "# Reading from a file\n",
        "try:\n",
        "    with open(\"example.txt\", \"r\") as file:\n",
        "        content = file.read()",
        "        print(\"\\nContent of example.txt:\")",
        "        print(content)",
        "except FileNotFoundError:\n",
        "    print(\"Error: example.txt not found.\")",
        "except IOError as e:\n",
        "    print(f\"Error reading file: {e}\")"
      ]
    },
    {
      "cell_type": "code",
      "execution_count": null,
      "metadata": {},
      "outputs": [],
      "source": [
        "# Reading line by line\n",
        "try:\n",
        "    with open(\"example.txt\", \"r\") as file:\n",
        "        print(\"\\nReading example.txt line by line:\")",
        "        for line_num, line in enumerate(file, 1):",
        "            print(f\"Line {line_num}: {line.strip()}\") # .strip() removes newline characters",
        "except FileNotFoundError:\n",
        "    print(\"Error: example.txt not found.\")",
        "except IOError as e:\n",
        "    print(f\"Error reading file: {e}\")"
      ]
    },
    {
      "cell_type": "code",
      "execution_count": null,
      "metadata": {},
      "outputs": [],
      "source": [
        "# Appending to a file\n",
        "try:\n",
        "    with open(\"example.txt\", \"a\") as file:\n",
        "        file.write(\"This line was appended.\\n\")",
        "    print(\"\\nSuccessfully appended to example.txt\")",
        "except IOError as e:\n",
        "    print(f\"Error appending to file: {e}\")"
      ]
    },
    {
      "cell_type": "code",
      "execution_count": null,
      "metadata": {},
      "outputs": [],
      "source": [
        "# Verify append by reading again\n",
        "try:\n",
        "    with open(\"example.txt\", \"r\") as file:\n",
        "        content = file.read()",
        "        print(\"\\nContent of example.txt after appending:\")",
        "        print(content)",
        "except FileNotFoundError:\n",
        "    print(\"Error: example.txt not found.\")",
        "except IOError as e:\n",
        "    print(f\"Error reading file: {e}\")"
      ]
    },
    {
      "cell_type": "code",
      "execution_count": null,
      "metadata": {},
      "outputs": [],
      "source": [
        "# Deleting a file\n",
        "import os\n",
        "\n",
        "try:\n",
        "    os.remove(\"example.txt\")",
        "    print(\"\\nSuccessfully deleted example.txt\")",
        "except FileNotFoundError:\n",
        "    print(\"Error: example.txt not found for deletion.\")",
        "except OSError as e:\n",
        "    print(f\"Error deleting file: {e}\")"
      ]
    }
  ],
  "metadata": {
    "kernelspec": {
      "display_name": "Python 3",
      "language": "python",
      "name": "python3"
    },
    "language_info": {
      "codemirror_mode": {
        "name": "ipython",
        "version": 3
      },
      "file_extension": ".py",
      "mimetype": "text/x-python",
      "name": "python",
      "nbconvert_exporter": "python",
      "pygments_lexer": "ipython3",
      "version": "3.11.5"
    }
  },
  "nbformat": 4,
  "nbformat_minor": 5
}