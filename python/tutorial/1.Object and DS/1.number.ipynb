{
  "cells": [
    {
      "cell_type": "markdown",
      "metadata": {},
      "source": [
        "# Number Examples in Python"
      ]
    },
    {
      "cell_type": "code",
      "execution_count": null,
      "metadata": {},
      "outputs": [],
      "source": [
        "# Integer\n",
        "a = 10\n",
        "b = 3\n",
        "print(\"Integer a:\", a)\n",
        "print(\"Integer b:\", b)\n",
        "\n",
        "# Float\n",
        "x = 10.5\n",
        "y = 2.5\n",
        "print(\"Float x:\", x)\n",
        "print(\"Float y:\", y)\n",
        "\n",
        "# Complex number\n",
        "c = 3 + 4j\n",
        "print(\"Complex c:\", c)\n",
        "print(\"Real part:\", c.real)\n",
        "print(\"Imaginary part:\", c.imag)"
      ]
    },
    {
      "cell_type": "markdown",
      "metadata": {},
      "source": [
        "## Basic Arithmetic"
      ]
    },
    {
      "cell_type": "code",
      "execution_count": null,
      "metadata": {},
      "outputs": [],
      "source": [
        "# Basic arithmetic\n",
        "print(\"Addition:\", a + b)\n",
        "print(\"Subtraction:\", a - b)\n",
        "print(\"Multiplication:\", a * b)\n",
        "print(\"Division:\", a / b)\n",
        "print(\"Floor Division:\", a // b)\n",
        "print(\"Modulus:\", a % b)\n",
        "print(\"Exponentiation:\", a ** b)\n",
        "\n",
        "# Mixed type operations\n",
        "print(\"Addition (int + float):\", a + x)"
      ]
    },
    {
      "cell_type": "markdown",
      "metadata": {},
      "source": [
        "## Built-in Functions"
      ]
    },
    {
      "cell_type": "code",
      "execution_count": null,
      "metadata": {},
      "outputs": [],
      "source": [
        "# Using built-in functions\n",
        "print(\"Absolute value:\", abs(-7))\n",
        "print(\"Round value:\", round(3.14159, 2))\n",
        "print(\"Power function:\", pow(2, 5))"
      ]
    },
    {
      "cell_type": "markdown",
      "metadata": {},
      "source": [
        "## Math Module"
      ]
    },
    {
      "cell_type": "code",
      "execution_count": null,
      "metadata": {},
      "outputs": [],
      "source": [
        "# Using math module\n",
        "import math\n",
        "print(\"Square root:\", math.sqrt(16))\n",
        "print(\"Ceiling:\", math.ceil(3.2))\n",
        "print(\"Floor:\", math.floor(3.8))\n",
        "print(\"Factorial:\", math.factorial(5))\n",
        "print(\"Pi value:\", math.pi)"
      ]
    },
    {
      "cell_type": "markdown",
      "metadata": {},
      "source": [
        "## Type Conversions"
      ]
    },
    {
      "cell_type": "code",
      "execution_count": null,
      "metadata": {},
      "outputs": [],
      "source": [
        "# Type conversions\n",
        "num_str = \"100\"\n",
        "print(\"String to int:\", int(num_str))\n",
        "print(\"String to float:\", float(num_str))\n",
        "print(\"Int to float:\", float(a))\n",
        "print(\"Float to int:\", int(x))"
      ]
    }
  ],
  "metadata": {
    "kernelspec": {
      "display_name": "Python 3",
      "language": "python",
      "name": "python3"
    },
    "language_info": {
      "codemirror_mode": {
        "name": "ipython",
        "version": 3
      },
      "file_extension": ".py",
      "mimetype": "text/x-python",
      "name": "python",
      "nbconvert_exporter": "python",
      "pygments_lexer": "ipython3",
      "version": "3.11.5"
    }
  },
  "nbformat": 4,
  "nbformat_minor": 5
}
