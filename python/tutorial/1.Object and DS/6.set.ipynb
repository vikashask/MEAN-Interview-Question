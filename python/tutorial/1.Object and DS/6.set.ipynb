{
  "cells": [
    {
      "cell_type": "markdown",
      "metadata": {},
      "source": [
        "# Set Examples in Python"
      ]
    },
    {
      "cell_type": "code",
      "execution_count": null,
      "metadata": {},
      "outputs": [],
      "source": [
        "# Creating sets\n",
        "fruits = {\"apple\", \"banana\", \"cherry\"}\n",
        "numbers = {1, 2, 3, 4, 5}\n",
        "mixed_set = {1, \"hello\", 3.14, True}\n",
        "\n",
        "print(\"Fruits set:\", fruits)\n",
        "print(\"Numbers set:\", numbers)\n",
        "print(\"Mixed set:\", mixed_set)\n",
        "\n",
        "# Creating an empty set (use set(), not {})\n",
        "empty_set = set()\n",
        "print(\"Empty set:\", empty_set)"
      ]
    },
    {
      "cell_type": "markdown",
      "metadata": {},
      "source": [
        "## Adding and Removing Elements"
      ]
    },
    {
      "cell_type": "code",
      "execution_count": null,
      "metadata": {},
      "outputs": [],
      "source": [
        "# Adding elements\n",
        "fruits.add(\"orange\")\n",
        "print(\"After adding orange:\", fruits)\n",
        "\n",
        "# Updating with multiple elements\n",
        "fruits.update([\"mango\", \"grape\"])\n",
        "print(\"After update:\", fruits)\n",
        "\n",
        "# Removing elements\n",
        "fruits.remove(\"banana\")\n",
        "print(\"After removing banana:\", fruits)\n",
        "\n",
        "# Discard (no error if element not found)\n",
        "fruits.discard(\"kiwi\")\n",
        "print(\"After discard (kiwi):\", fruits)\n",
        "\n",
        "# Pop (removes and returns an arbitrary element)\n",
        "removed_item = fruits.pop()\n",
        "print(\"Popped item:\", removed_item)\n",
        "print(\"After pop:\", fruits)"
      ]
    },
    {
      "cell_type": "markdown",
      "metadata": {},
      "source": [
        "## Set Operations"
      ]
    },
    {
      "cell_type": "code",
      "execution_count": null,
      "metadata": {},
      "outputs": [],
      "source": [
        "# Set operations\n",
        "set_a = {1, 2, 3, 4}\n",
        "set_b = {3, 4, 5, 6}\n",
        "\n",
        "print(\"Union:\", set_a | set_b)\n",
        "print(\"Intersection:\", set_a & set_b)\n",
        "print(\"Difference (A - B):\", set_a - set_b)\n",
        "print(\"Symmetric difference:\", set_a ^ set_b)\n",
        "\n",
        "# Subset and Superset\n",
        "print(\"A is subset of B:\", set_a.issubset(set_b))\n",
        "print(\"A is superset of B:\", set_a.issuperset(set_b))\n",
        "\n",
        "# Set comprehension\n",
        "squares = {x ** 2 for x in range(1, 6)}\n",
        "print(\"Squares set:\", squares)"
      ]
    }
  ],
  "metadata": {
    "kernelspec": {
      "display_name": "Python 3",
      "language": "python",
      "name": "python3"
    },
    "language_info": {
      "codemirror_mode": {
        "name": "ipython",
        "version": 3
      },
      "file_extension": ".py",
      "mimetype": "text/x-python",
      "name": "python",
      "nbconvert_exporter": "python",
      "pygments_lexer": "ipython3",
      "version": "3.11.5"
    }
  },
  "nbformat": 4,
  "nbformat_minor": 5
}