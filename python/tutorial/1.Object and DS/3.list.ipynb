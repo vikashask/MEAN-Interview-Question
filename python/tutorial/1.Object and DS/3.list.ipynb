{
  "cells": [
    {
      "cell_type": "markdown",
      "metadata": {},
      "source": [
        "# List Examples in Python"
      ]
    },
    {
      "cell_type": "code",
      "execution_count": null,
      "metadata": {},
      "outputs": [],
      "source": [
        "# Creating lists\n",
        "fruits = [\"apple\", \"banana\", \"cherry\"]\n",
        "numbers = [1, 2, 3, 4, 5]\n",
        "mixed_list = [1, \"hello\", 3.14, True]\n",
        "\n",
        "print(\"Fruits:\", fruits)\n",
        "print(\"Numbers:\", numbers)\n",
        "print(\"Mixed:\", mixed_list)"
      ]
    },
    {
      "cell_type": "markdown",
      "metadata": {},
      "source": [
        "## Indexing and Slicing"
      ]
    },
    {
      "cell_type": "code",
      "execution_count": null,
      "metadata": {},
      "outputs": [],
      "source": [
        "# Indexing and slicing\n",
        "print(\"First fruit:\", fruits[0])\n",
        "print(\"Last fruit:\", fruits[-1])\n",
        "print(\"Slice [1:3]:\", fruits[1:3])"
      ]
    },
    {
      "cell_type": "markdown",
      "metadata": {}, 
      "source": [
        "## Modifying Lists"
      ]
    },
    {
      "cell_type": "code",
      "execution_count": null,
      "metadata": {},
      "outputs": [],
      "source": [
        "# Modifying lists\n",
        "fruits[1] = \"blueberry\"\n",
        "print(\"Modified fruits:\", fruits)"
      ]
    },
    {
      "cell_type": "markdown",
      "metadata": {},
      "source": [
        "## Adding and Removing Elements"
      ]
    },
    {
      "cell_type": "code",
      "execution_count": null,
      "metadata": {},
      "outputs": [],
      "source": [
        "# Adding elements\n",
        "fruits.append(\"orange\")\n",
        "print(\"After append:\", fruits)\n",
        "\n",
        "fruits.insert(1, \"mango\")\n",
        "print(\"After insert:\", fruits)\n",
        "\n",
        "# Removing elements\n",
        "fruits.remove(\"apple\")\n",
        "print(\"After remove:\", fruits)\n",
        "\n",
        "popped_item = fruits.pop()\n",
        "print(\"Popped item:\", popped_item)\n",
        "print(\"After pop:\", fruits)"
      ]
    },
    {
      "cell_type": "markdown",
      "metadata": {},
      "source": [
        "## List Methods"
      ]
    },
    {
      "cell_type": "code",
      "execution_count": null,
      "metadata": {},
      "outputs": [],
      "source": [
        "# List methods\n",
        "numbers.extend([6, 7, 8])\n",
        "print(\"Extended numbers:\", numbers)\n",
        "\n",
        "numbers.sort()\n",
        "print(\"Sorted numbers:\", numbers)\n",
        "\n",
        "numbers.reverse()\n",
        "print(\"Reversed numbers:\", numbers)"
      ]
    },
    {
      "cell_type": "markdown",
      "metadata": {},
      "source": [
        "## Membership Testing"
      ]
    },
    {
      "cell_type": "code",
      "execution_count": null,
      "metadata": {},
      "outputs": [],
      "source": [
        "# Checking membership\n",
        "print(\"'banana' in fruits:\", \"banana\" in fruits)\n",
        "print(\"'mango' in fruits:\", \"mango\" in fruits)"
      ]
    },
    {
      "cell_type": "markdown",
      "metadata": {},
      "source": [
        "## List Comprehension"
      ]
    },
    {
      "cell_type": "code",
      "execution_count": null,
      "metadata": {},
      "outputs": [],
      "source": [
        "# List comprehension\n",
        "squares = [n ** 2 for n in numbers]\n",
        "print(\"Squares:\", squares)"
      ]
    },
    {
      "cell_type": "markdown",
      "metadata": {},
      "source": [
        "## Nested Lists"
      ]
    },
    {
      "cell_type": "code",
      "execution_count": null,
      "metadata": {},
      "outputs": [],
      "source": [
        "# Nested lists\n",
        "nested = [[1, 2], [3, 4], [5, 6]]\n",
        "print(\"Nested list:\", nested)\n",
        "print(\"First element of second list:\", nested[1][0])"
      ]
    }
  ],
  "metadata": {
    "kernelspec": {
      "display_name": "Python 3",
      "language": "python",
      "name": "python3"
    },
    "language_info": {
      "codemirror_mode": {
        "name": "ipython",
        "version": 3
      },
      "file_extension": ".py",
      "mimetype": "text/x-python",
      "name": "python",
      "nbconvert_exporter": "python",
      "pygments_lexer": "ipython3",
      "version": "3.11.5"
    }
  },
  "nbformat": 4,
  "nbformat_minor": 5
}