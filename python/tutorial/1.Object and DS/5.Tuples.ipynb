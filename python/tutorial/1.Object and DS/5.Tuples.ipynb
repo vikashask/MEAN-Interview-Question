{
  "cells": [
    {
      "cell_type": "markdown",
      "metadata": {},
      "source": [
        "# Tuple Examples in Python"
      ]
    },
    {
      "cell_type": "code",
      "execution_count": null,
      "metadata": {},
      "outputs": [],
      "source": [
        "# Creating tuples\n",
        "fruits = (\"apple\", \"banana\", \"cherry\")\n",
        "numbers = (1, 2, 3, 4, 5)\n",
        "mixed_tuple = (1, \"hello\", 3.14, True)\n",
        "\n",
        "print(\"Fruits tuple:\", fruits)\n",
        "print(\"Numbers tuple:\", numbers)\n",
        "print(\"Mixed tuple:\", mixed_tuple)\n",
        "\n",
        "# Single-element tuple (note the comma)\n",
        "single_element = (\"one\",)\n",
        "print(\"Single element tuple:\", single_element)\n",
        "print(\"Type:\", type(single_element))"
      ]
    },
    {
      "cell_type": "markdown",
      "metadata": {},
      "source": [
        "## Indexing, Slicing and Immutability"
      ]
    },
    {
      "cell_type": "code",
      "execution_count": null,
      "metadata": {},
      "outputs": [],
      "source": [
        "# Indexing and slicing\n",
        "print(\"First fruit:\", fruits[0])\n",
        "print(\"Last fruit:\", fruits[-1])\n",
        "print(\"Slice [1:3]:\", fruits[1:3])\n",
        "\n",
        "# Immutability demonstration\n",
        "try:\n",
        "    fruits[0] = \"mango\"",
        "except TypeError as e:\n",
        "    print(\"Error (tuples are immutable):\", e)"
      ]
    },
    {
      "cell_type": "markdown",
      "metadata": {},
      "source": [
        "## Tuple Methods and Unpacking"
      ]
    },
    {
      "cell_type": "code",
      "execution_count": null,
      "metadata": {},
      "outputs": [],
      "source": [
        "# Tuple methods\n",
        "print(\"Count of 2 in numbers:\", numbers.count(2))\n",
        "print(\"Index of 'cherry':\", fruits.index(\"cherry\"))\n",
        "\n",
        "# Tuple unpacking\n",
        "person = (\"Alice\", 30, \"New York\")\n",
        "name, age, city = person\n",
        "print(\"Name:\", name)\n",
        "print(\"Age:\", age)\n",
        "print(\"City:\", city)"
      ]
    },
    {
      "cell_type": "markdown",
      "metadata": {},
      "source": [
        "## Nested Tuples and Multiple Return Values"
      ]
    },
    {
      "cell_type": "code",
      "execution_count": null,
      "metadata": {},
      "outputs": [],
      "source": [
        "# Nested tuples\n",
        "nested_tuple = ((1, 2), (3, 4), (5, 6))\n",
        "print(\"Nested tuple:\", nested_tuple)\n",
        "print(\"First element of second tuple:\", nested_tuple[1][0])\n",
        "\n",
        "# Using tuples for multiple return values\n",
        "def min_and_max(values):\n",
        "    return (min(values), max(values))\n",
        "\n",
        "result = min_and_max([5, 2, 8, 1, 9])\n",
        "print(\"Min and Max:\", result)"
      ]
    }
  ],
  "metadata": {
    "kernelspec": {
      "display_name": "Python 3",
      "language": "python",
      "name": "python3"
    },
    "language_info": {
      "codemirror_mode": {
        "name": "ipython",
        "version": 3
      },
      "file_extension": ".py",
      "mimetype": "text/x-python",
      "name": "python",
      "nbconvert_exporter": "python",
      "pygments_lexer": "ipython3",
      "version": "3.11.5"
    }
  },
  "nbformat": 4,
  "nbformat_minor": 5
}