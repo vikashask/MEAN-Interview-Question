{
  "cells": [
    {
      "cell_type": "markdown",
      "metadata": {},
      "source": [
        "# Dictionary Examples in Python"
      ]
    },
    {
      "cell_type": "code",
      "execution_count": null,
      "metadata": {},
      "outputs": [],
      "source": [
        "# Creating dictionaries\n",
        "person = {\n",
        "    \"name\": \"Alice\",\n",
        "    \"age\": 30,\n",
        "    \"city\": \"New York\"\n",
        "}\n",
        "\n",
        "print(\"Person:\", person)\n",
        "\n",
        "# Accessing values\n",
        "print(\"Name:\", person[\"name\"])\n",
        "print(\"Age:\", person.get(\"age\"))\n",
        "\n",
        "# Modifying values\n",
        "person[\"age\"] = 31\n",
        "print(\"Updated age:\", person)\n",
        "\n",
        "# Adding new key-value pairs\n",
        "person[\"email\"] = \"alice@example.com\"\n",
        "print(\"After adding email:\", person)\n",
        "\n",
        "# Removing items\n",
        "removed_value = person.pop(\"city\")\n",
        "print(\"Removed city:\", removed_value)\n",
        "print(\"After removal:\", person)\n",
        "\n",
        "# Using popitem() (removes last inserted)\n",
        "last_item = person.popitem()\n",
        "print(\"Last item removed:\", last_item)\n",
        "print(\"After popitem:\", person)"
      ]
    },
    {
      "cell_type": "markdown",
      "metadata": {},
      "source": [
        "## Looping and Dictionary Methods"
      ]
    },
    {
      "cell_type": "code",
      "execution_count": null,
      "metadata": {},
      "outputs": [],
      "source": [
        "# Checking keys and values\n",
        "\n",
        "# Looping through dictionary\n",
        "for key, value in person.items():\n",
        "    print(f\"{key}: {value}\")\n",
        "\n",
        "# Dictionary methods\n",
        "keys = person.keys()\n",
        "values = person.values()\n",
        "items = person.items()\n",
        "print(\"Keys:\", keys)\n",
        "print(\"Values:\", values)\n",
        "print(\"Items:\", items)\n",
        "\n",
        "# Merging dictionaries\n",
        "other_info = {\"country\": \"USA\", \"age\": 32}\n",
        "person.update(other_info)\n",
        "print(\"After update:\", person)\n",
        "\n",
        "# Dictionary comprehension\n",
        "squares = {x: x ** 2 for x in range(1, 6)}\n",
        "print(\"Squares dict:\", squares)"
      ]
    }
  ],
  "metadata": {
    "kernelspec": {
      "display_name": "Python 3",
      "language": "python",
      "name": "python3"
    },
    "language_info": {
      "codemirror_mode": {
        "name": "ipython",
        "version": 3
      },
      "file_extension": ".py",
      "mimetype": "text/x-python",
      "name": "python",
      "nbconvert_exporter": "python",
      "pygments_lexer": "ipython3",
      "version": "3.11.5"
    }
  },
  "nbformat": 4,
  "nbformat_minor": 5
}