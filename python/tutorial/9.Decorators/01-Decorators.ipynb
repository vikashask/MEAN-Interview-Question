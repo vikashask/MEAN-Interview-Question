{
 "cells": [
  {
   "cell_type": "code",
   "execution_count": null,
   "id": "83ab66fa",
   "metadata": {},
   "outputs": [
    {
     "name": "stdout",
     "output_type": "stream",
     "text": [
      "{'__name__': '__main__', '__doc__': 'Automatically created module for IPython interactive environment', '__package__': None, '__loader__': None, '__spec__': None, '__builtin__': <module 'builtins' (built-in)>, '__builtins__': <module 'builtins' (built-in)>, '_ih': ['', '## Decorators can be thought of as functions which modify the functionality of another function. They help to make your code shorter and more \"Pythonic\".\\n\\ns = \\'Global Variable\\'\\n\\ndef check_for_locals():\\n    print(locals())\\nprint(globals())', '## Decorators can be thought of as functions which modify the functionality of another function. They help to make your code shorter and more \"Pythonic\".\\n\\ns = \\'Global Variable\\'\\n\\ndef check_for_locals():\\n    print(locals())\\nprint(globals())\\nprint(globals().keys())'], '_oh': {}, '_dh': [PosixPath('/Users/80219513/Documents/Project/git/MEAN-Interview-Question/python/tutorial/9.Decorators')], 'In': ['', '## Decorators can be thought of as functions which modify the functionality of another function. They help to make your code shorter and more \"Pythonic\".\\n\\ns = \\'Global Variable\\'\\n\\ndef check_for_locals():\\n    print(locals())\\nprint(globals())', '## Decorators can be thought of as functions which modify the functionality of another function. They help to make your code shorter and more \"Pythonic\".\\n\\ns = \\'Global Variable\\'\\n\\ndef check_for_locals():\\n    print(locals())\\nprint(globals())\\nprint(globals().keys())'], 'Out': {}, 'get_ipython': <bound method InteractiveShell.get_ipython of <ipykernel.zmqshell.ZMQInteractiveShell object at 0x10c138670>>, 'exit': <IPython.core.autocall.ZMQExitAutocall object at 0x10c14e8e0>, 'quit': <IPython.core.autocall.ZMQExitAutocall object at 0x10c14e8e0>, 'open': <function open at 0x10afe20d0>, '_': '', '__': '', '___': '', '__vsc_ipynb_file__': '/Users/80219513/Documents/Project/git/MEAN-Interview-Question/python/tutorial/9.Decorators/01-Decorators.ipynb', '_i': '## Decorators can be thought of as functions which modify the functionality of another function. They help to make your code shorter and more \"Pythonic\".\\n\\ns = \\'Global Variable\\'\\n\\ndef check_for_locals():\\n    print(locals())\\nprint(globals())', '_ii': '', '_iii': '', '_i1': '## Decorators can be thought of as functions which modify the functionality of another function. They help to make your code shorter and more \"Pythonic\".\\n\\ns = \\'Global Variable\\'\\n\\ndef check_for_locals():\\n    print(locals())\\nprint(globals())', 's': 'Global Variable', 'check_for_locals': <function check_for_locals at 0x10c209af0>, '_i2': '## Decorators can be thought of as functions which modify the functionality of another function. They help to make your code shorter and more \"Pythonic\".\\n\\ns = \\'Global Variable\\'\\n\\ndef check_for_locals():\\n    print(locals())\\nprint(globals())\\nprint(globals().keys())'}\n",
      "dict_keys(['__name__', '__doc__', '__package__', '__loader__', '__spec__', '__builtin__', '__builtins__', '_ih', '_oh', '_dh', 'In', 'Out', 'get_ipython', 'exit', 'quit', 'open', '_', '__', '___', '__vsc_ipynb_file__', '_i', '_ii', '_iii', '_i1', 's', 'check_for_locals', '_i2'])\n"
     ]
    }
   ],
   "source": [
    "## Decorators can be thought of as functions which modify the functionality of another function. They help to make your code shorter and more \"Pythonic\".\n",
    "\n",
    "s = 'Global Variable'\n",
    "\n",
    "def check_for_locals():\n",
    "    print(locals())\n",
    "print(globals())\n",
    "print(globals().keys())"
   ]
  },
  {
   "cell_type": "code",
   "execution_count": null,
   "id": "566fcf25",
   "metadata": {},
   "outputs": [],
   "source": [
    "## Functions within functions\n",
    "\n",
    "def hello(name='Jose'):\n",
    "    print('The hello() function has been executed')\n",
    "    \n",
    "    def greet():\n",
    "        return '\\t This is inside the greet() function'\n",
    "    \n",
    "    def welcome():\n",
    "        return \"\\t This is inside the welcome() function\"\n",
    "    \n",
    "print(greet())\n",
    "print(welcome())\n",
    "print(\"Now we are back inside the hello() function\")\n"
   ]
  },
  {
   "cell_type": "code",
   "execution_count": null,
   "id": "345b0860",
   "metadata": {},
   "outputs": [],
   "source": [
    "list(map(lambda x,y,z:x+y+z,a,b,c))"
   ]
  }
 ],
 "metadata": {
  "kernelspec": {
   "display_name": "Python 3",
   "language": "python",
   "name": "python3"
  },
  "language_info": {
   "codemirror_mode": {
    "name": "ipython",
    "version": 3
   },
   "file_extension": ".py",
   "mimetype": "text/x-python",
   "name": "python",
   "nbconvert_exporter": "python",
   "pygments_lexer": "ipython3",
   "version": "3.9.6"
  }
 },
 "nbformat": 4,
 "nbformat_minor": 5
}
