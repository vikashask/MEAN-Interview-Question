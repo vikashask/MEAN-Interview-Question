{
 "cells": [
  {
   "cell_type": "code",
   "execution_count": null,
   "id": "dedddf27",
   "metadata": {},
   "outputs": [],
   "source": [
    "# Class attributes vs Instance attributes in Python\n",
    "from symtable import Class\n",
    "\n",
    "\n",
    "class Student:\n",
    "    # Class attribute\n",
    "    school_name = \"ABC High School\"\n",
    "    total_students = 0\n",
    "    subjects = [\"Math\", \"Science\", \"History\"]\n",
    "\n",
    "    def __init__(self, name, grade):\n",
    "        # Instance attributes\n",
    "        self.name = name\n",
    "        self.grade = grade\n",
    "\n",
    "        #modify class attribute\n",
    "        Student.total_students += 1\n",
    "\n",
    "    def display_info(self):\n",
    "        return f\"Name: {self.name}, Grade: {self.grade}, School: {Student.school_name}\"\n",
    "    \n",
    "    @classmethod\n",
    "    def total_students_info(cls):\n",
    "        return f\"Total students in {cls.school_name}: {cls.total_students}\"\n",
    "    \n",
    "    @classmethod\n",
    "    def change_school_name(cls, new_name):\n",
    "        cls.school_name = new_name\n",
    "\n",
    "# Creating class instances\n",
    "student1 = Student(\"Alice\", \"10th\")\n",
    "student2 = Student(\"Bob\", \"11th\")\n",
    "student3 = Student(\"Charlie\", \"10th\")\n",
    "\n",
    "# Accessing instance attributes\n",
    "print(student1.self_info())\n",
    "print(student2.self_info())\n",
    "\n",
    "# Accessing class attributes\n",
    "print(Student.total_students_info())\n",
    "Student.change_school_name(\"XYZ High School\")\n",
    "print(Student.total_students_info())\n",
    "\n",
    "# modifying class attribute\n",
    "Student.change_school_name(\"New Age High School\")\n",
    "print(\" School name changed to:\", Student.school_name)\n",
    "\n",
    "# display all instance info\n",
    "print(student1.display_info())\n",
    "\n",
    "# Adding to class attribute list\n",
    "Student.subjects.append(\"Art\")\n",
    "print(\"Subjects offered:\", Student.subjects)\n",
    "\n",
    "# Demonstrating the difference\n",
    "print(f\"student1.school_name: {student1.school_name}\")  # Inherited from class\n",
    "print(f\"Student.school_name: {Student.school_name}\")    # Class attribute"
   ]
  },
  {
   "cell_type": "code",
   "execution_count": null,
   "id": "c290e667",
   "metadata": {},
   "outputs": [],
   "source": []
  }
 ],
 "metadata": {
  "kernelspec": {
   "display_name": "Python 3",
   "language": "python",
   "name": "python3"
  },
  "language_info": {
   "codemirror_mode": {
    "name": "ipython",
    "version": 3
   },
   "file_extension": ".py",
   "mimetype": "text/x-python",
   "name": "python",
   "nbconvert_exporter": "python",
   "pygments_lexer": "ipython3",
   "version": "3.9.6"
  }
 },
 "nbformat": 4,
 "nbformat_minor": 5
}
