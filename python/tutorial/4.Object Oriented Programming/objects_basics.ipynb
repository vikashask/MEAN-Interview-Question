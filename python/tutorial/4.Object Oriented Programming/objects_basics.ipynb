{
 "cells": [
  {
   "cell_type": "code",
   "execution_count": null,
   "metadata": {},
   "outputs": [],
   "source": [
    "# Creating and using objects in Python\n",
    "\n",
    "# Define a simple class\n",
    "class Person:\n",
    "    def __init__(self, name, age):\n",
    "        self.name = name\n",
    "        self.age = age\n",
    "    \n",
    "    def introduce(self):\n",
    "        return f\"Hi, I'm {self.name} and I'm {self.age} years old.\"\n",
    "\n",
    "# Creating objects (instances) of the class\n",
    "person1 = Person(\"Alice\", 30)\n",
    "person2 = Person(\"Bob\", 25)\n",
    "\n",
    "# Using the objects\n",
    "print(person1.introduce())\n",
    "print(person2.introduce())\n",
    "\n",
    "# Accessing object attributes\n",
    "print(f\"{person1.name} is {person1.age} years old\")\n",
    "print(f\"{person2.name} is {person2.age} years old\")"
   ]
  }
 ],
 "metadata": {
  "kernelspec": {
   "display_name": "Python 3",
   "language": "python",
   "name": "python3"
  },
  "language_info": {
   "name": "python",
   "version": "3.11.7"
  }
 },
 "nbformat": 4,
 "nbformat_minor": 4
}