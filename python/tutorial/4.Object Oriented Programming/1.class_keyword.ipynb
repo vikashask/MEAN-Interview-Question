{
 "cells": [
  {
   "cell_type": "code",
   "execution_count": null,
   "metadata": {},
   "outputs": [],
   "source": [
    "# Understanding the class keyword in Python\n",
    "\n",
    "# Basic class definition\n",
    "class Vehicle:\n",
    "    \"\"\"A simple vehicle class\"\"\"\n",
    "    pass  # Empty class body\n",
    "\n",
    "# Class with constructor\n",
    "class Car:\n",
    "    \"\"\"Car class demonstrating class keyword usage\"\"\"\n",
    "    \n",
    "    def __init__(self, brand, model):\n",
    "        \"\"\"Constructor method\"\"\"\n",
    "        self.brand = brand\n",
    "        self.model = model\n",
    "    \n",
    "    def display_info(self):\n",
    "        \"\"\"Method to display car information\"\"\"\n",
    "        return f\"Car: {self.brand} {self.model}\"\n",
    "\n",
    "# Creating instances\n",
    "car1 = Car(\"Toyota\", \"Camry\")\n",
    "car2 = Car(\"Honda\", \"Civic\")\n",
    "\n",
    "print(car1.display_info())\n",
    "print(car2.display_info())\n",
    "\n",
    "# Class with multiple methods\n",
    "class Calculator:\n",
    "    \"\"\"Simple calculator class\"\"\"\n",
    "    \n",
    "    def __init__(self):\n",
    "        \"\"\"Initialize calculator\"\"\"\n",
    "        self.result = 0\n",
    "    \n",
    "    def add(self, number):\n",
    "        \"\"\"Add a number\"\"\"\n",
    "        self.result += number\n",
    "        return self\n",
    "    \n",
    "    def subtract(self, number):\n",
    "        \"\"\"Subtract a number\"\"\"\n",
    "        self.result -= number\n",
    "        return self\n",
    "    \n",
    "    def get_result(self):\n",
    "        \"\"\"Get the current result\"\"\"\n",
    "        return self.result\n",
    "\n",
    "# Using the calculator\n",
    "calc = Calculator()\n",
    "result = calc.add(10).subtract(3).get_result()\n",
    "print(f\"Calculator result: {result}\")"
   ]
  },
  {
   "cell_type": "code",
   "execution_count": 1,
   "metadata": {},
   "outputs": [
    {
     "name": "stdout",
     "output_type": "stream",
     "text": [
      "Deposited $500. New balance: $1500\n",
      "Withdrawn $200. New balance: $1300\n"
     ]
    }
   ],
   "source": [
    "\n",
    "# Class naming conventions and best practices\n",
    "class BankAccount:  # Use PascalCase for class names\n",
    "    \"\"\"Best practices for class definition\"\"\"\n",
    "    \n",
    "    def __init__(self, account_holder, initial_balance=0):\n",
    "        self.account_holder = account_holder  # Use snake_case for attributes\n",
    "        self.balance = initial_balance\n",
    "    \n",
    "    def deposit(self, amount):\n",
    "        \"\"\"Method names should be descriptive\"\"\"\n",
    "        self.balance += amount\n",
    "        return f\"Deposited ${amount}. New balance: ${self.balance}\"\n",
    "    \n",
    "    def withdraw(self, amount):\n",
    "        if amount <= self.balance:\n",
    "            self.balance -= amount\n",
    "            return f\"Withdrawn ${amount}. New balance: ${self.balance}\"\n",
    "        return \"Insufficient funds\"\n",
    "\n",
    "# Example usage\n",
    "account = BankAccount(\"John Doe\", 1000)\n",
    "print(account.deposit(500))\n",
    "print(account.withdraw(200))"
   ]
  }
 ],
 "metadata": {
  "kernelspec": {
   "display_name": "Python 3",
   "language": "python",
   "name": "python3"
  },
  "language_info": {
   "codemirror_mode": {
    "name": "ipython",
    "version": 3
   },
   "file_extension": ".py",
   "mimetype": "text/x-python",
   "name": "python",
   "nbconvert_exporter": "python",
   "pygments_lexer": "ipython3",
   "version": "3.9.6"
  }
 },
 "nbformat": 4,
 "nbformat_minor": 4
}
