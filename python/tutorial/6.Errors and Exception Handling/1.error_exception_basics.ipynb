{
 "cells": [
  {
   "cell_type": "code",
   "execution_count": null,
   "id": "9c781e6c",
   "metadata": {},
   "outputs": [],
   "source": [
    "# Understanding Types of Errors\n",
    "# ============================== args ==============================\n",
    "# Function with variable-length arguments (*args)\n",
    "def sum_all(*args):\n",
    "    return sum(args)    \n",
    "\n",
    "\n",
    "\n",
    "\n",
    "    "
   ]
  }
 ],
 "metadata": {
  "kernelspec": {
   "display_name": "Python 3",
   "language": "python",
   "name": "python3"
  },
  "language_info": {
   "codemirror_mode": {
    "name": "ipython",
    "version": 3
   },
   "file_extension": ".py",
   "mimetype": "text/x-python",
   "name": "python",
   "nbconvert_exporter": "python",
   "pygments_lexer": "ipython3",
   "version": "3.9.6"
  }
 },
 "nbformat": 4,
 "nbformat_minor": 5
}
