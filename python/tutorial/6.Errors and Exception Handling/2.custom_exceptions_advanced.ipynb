{
 "cells": [
  {
   "cell_type": "code",
   "execution_count": null,
   "metadata": {},
   "outputs": [],
   "source": [
    "# Custom Exceptions and Real-World Applications\n",
    "\n",
    "\"\"\"\n",
    "STEP 7: Creating Custom Exceptions\n",
    "=================================\n",
    "Custom exceptions help make your code more readable and maintainable\n",
    "by providing specific error types for your application domain.\n",
    "\"\"\"\n",
    "\n",
    "print(\"=" * 60)",
    