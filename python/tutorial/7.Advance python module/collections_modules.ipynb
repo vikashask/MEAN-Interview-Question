{
 "cells": [
  {
   "cell_type": "code",
   "execution_count": null,
   "id": "441f874b",
   "metadata": {},
   "outputs": [],
   "source": [
    "# Examples of Python collections\n",
    "\n",
    "# List: Ordered, mutable, allows duplicates\n",
    "my_list = [1, 2, 3, 4, 5]\n",
    "print(\"List:\", my_list)\n",
    "\n",
    "# Tuple: Ordered, immutable, allows duplicates\n",
    "my_tuple = (1, 2, 3, 4, 5)\n",
    "print(\"Tuple:\", my_tuple)\n",
    "\n",
    "# Set: Unordered, mutable, no duplicates\n",
    "my_set = {1, 2, 3, 4, 5}\n",
    "print(\"Set:\", my_set)\n",
    "\n",
    "# Dictionary: Unordered, mutable, key-value pairs\n",
    "my_dict = {\"a\": 1, \"b\": 2, \"c\": 3}\n",
    "print(\"Dictionary:\", my_dict)"
   ]
  }
 ],
 "metadata": {
  "language_info": {
   "name": "python"
  }
 },
 "nbformat": 4,
 "nbformat_minor": 5
}
