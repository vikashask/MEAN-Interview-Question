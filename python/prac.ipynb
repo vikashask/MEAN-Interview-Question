{
  "cells": [
    {
      "cell_type": "markdown",
      "metadata": {},
      "source": [
        "# Number Examples in Python"
      ]
    },
    {
      "cell_type": "code",
      "execution_count": null,
      "metadata": {},
      "outputs": [
        {
          "name": "stdout",
          "output_type": "stream",
          "text": [
            "Hello 80\n"
          ]
        }
      ],
      "source": [
        "name = input(\"Enter your name\") \n",
        "age = input(\"Enter your age\") \n",
        "if age >20: \n",
        "    print(\"teen\")\n",
        "if age>20:\n",
        "    print(\"Senior\")\n",
        "else:\n",
        "    print(\"child\")\n"
      ]
    },
    {
      "cell_type": "code",
      "execution_count": null,
      "id": "f11f5de2",
      "metadata": {},
      "outputs": [
        {
          "name": "stdout",
          "output_type": "stream",
          "text": [
            "1\n",
            "2\n",
            "3\n",
            "4\n",
            "5\n",
            "6\n",
            "7\n",
            "8\n",
            "9\n"
          ]
        }
      ],
      "source": [
        "# Range \n",
        "for i in range(1,10):\n",
        "    print(i)\n",
        "\n",
        "a= [\"sachintendulkar123\",\"dhoni\",\"Kholi456\",\"demo\",\"johnstephen\"]\n",
        "# filters those name"
      ]
    }
  ],
  "metadata": {
    "kernelspec": {
      "display_name": "Python 3",
      "language": "python",
      "name": "python3"
    },
    "language_info": {
      "codemirror_mode": {
        "name": "ipython",
        "version": 3
      },
      "file_extension": ".py",
      "mimetype": "text/x-python",
      "name": "python",
      "nbconvert_exporter": "python",
      "pygments_lexer": "ipython3",
      "version": "3.9.6"
    }
  },
  "nbformat": 4,
  "nbformat_minor": 5
}
